{
 "cells": [
  {
   "cell_type": "code",
   "execution_count": null,
   "id": "7d46a541-ae70-4645-9897-64f8443354bf",
   "metadata": {},
   "outputs": [],
   "source": [
    "import pandas as pd\n",
    "import numpy as np\n",
    "import matplotlib.pyplot as plt\n",
    "\n",
    "from tqdm import tqdm\n",
    "tqdm.pandas(desc='Processing')\n",
    "\n",
    "from sbatch_pred.queuetime_prediction.system_state import (get_partition_nodes,\n",
    "                                                           get_partition_node_group_proportions,\n",
    "                                                           get_node_groups,\n",
    "                                                           calculate_queue_state_features,\n",
    "                                                           calculate_system_utilization_features)\n",
    "\n",
    "from sbatch_pred.queuetime_prediction.model_training import prepare_model_data"
   ]
  },
  {
   "cell_type": "code",
   "execution_count": null,
   "id": "96e21d8f-2f2c-4f8d-b78e-24ac2938d17e",
   "metadata": {},
   "outputs": [],
   "source": [
    "slurm_df = pd.read_parquet('../../data/slurm_data.parquet')\n",
    "nodes_df = pd.read_parquet('../../data/nodes.parquet')\n",
    "partition_df = pd.read_parquet('../../data/partitions.parquet')\n",
    "rt_pred_df = pd.read_parquet('../../data/predicted_runtime.parquet')"
   ]
  },
  {
   "cell_type": "code",
   "execution_count": null,
   "id": "a44f0f22-7872-426b-bf88-09ee26dfbf53",
   "metadata": {},
   "outputs": [],
   "source": [
    "# Drop duplicate runtime predictions if present\n",
    "rt_pred_df.drop_duplicates(subset=['job_array_id'], inplace=True)\n",
    "\n",
    "# Merge runtime predictions with SLURM data\n",
    "slurm_df = slurm_df.merge(rt_pred_df[['job_array_id', 'wallclock_pred']], on='job_array_id', how='left')"
   ]
  },
  {
   "cell_type": "code",
   "execution_count": null,
   "id": "6c0837f5-0c2a-4529-91c9-4a34148c11fd",
   "metadata": {},
   "outputs": [],
   "source": [
    "# Use wallclock requested if runtime prediction not available\n",
    "# ...This is true for the earliest jobs in the dataset because \n",
    "# ...there are no earlier jobs available to train a model to predict their runtime\n",
    "slurm_df['wallclock_pred'] = slurm_df['wallclock_pred'].fillna(slurm_df['wallclock_req'])\n",
    "\n",
    "# Get job size, which is used for calculating system state features\n",
    "slurm_df['node_secs_pred'] = slurm_df['wallclock_pred'] * slurm_df['nodes_req']"
   ]
  },
  {
   "cell_type": "code",
   "execution_count": null,
   "id": "d9a4319d-174f-4a18-b639-2f2793eb0dea",
   "metadata": {},
   "outputs": [],
   "source": [
    "# Get a dictionary with lists of nodes in each partition\n",
    "partition_nodes = get_partition_nodes(partition_df, slurm_df)\n",
    "\n",
    "# For each partition, get the proportion of nodes in each node group\n",
    "partition_node_group_proportions = get_partition_node_group_proportions(partition_nodes, nodes_df)\n",
    "\n",
    "# Get the set of node groups containing nodes available to the partition the job was submitted to\n",
    "slurm_df['node_groups'] = get_node_groups(nodes_df, slurm_df)"
   ]
  },
  {
   "cell_type": "code",
   "execution_count": null,
   "id": "98bab454-b39e-4950-8ef3-f036f510f33c",
   "metadata": {},
   "outputs": [],
   "source": [
    "#knowledge_depths = ['node', 'partition', 'cluster']\n",
    "knowledge_depths = ['cluster']\n",
    "wallclock_knowledges = ['user', 'pred', 'perfect']\n",
    "\n",
    "for wallclock_knowledge in wallclock_knowledges:\n",
    "    for knowledge_depth in knowledge_depths:\n",
    "        print(f'Calculating features for knowledge depth ({knowledge_depth}) and wallclock knowledge ({wallclock_knowledge}).')\n",
    "        \n",
    "        print('Calculating queue state features.')\n",
    "        calculate_queue_state_features(slurm_df, nodes_df, partition_node_group_proportions, knowledge_depth, wallclock_knowledge, verbose=True)\n",
    "        \n",
    "        print('Calculating system utilization features.')\n",
    "        calculate_system_utilization_features(partition_nodes, slurm_df, wallclock_knowledge, knowledge_depth)\n",
    "\n",
    "        print('Preparing data for ML modeling.')\n",
    "        prepare_model_data(knowledge_depth, wallclock_knowledge)"
   ]
  },
  {
   "cell_type": "code",
   "execution_count": null,
   "id": "b91236b5-b272-4f12-a657-ff3043033965",
   "metadata": {},
   "outputs": [],
   "source": []
  }
 ],
 "metadata": {
  "kernelspec": {
   "display_name": "Python 3 (ipykernel)",
   "language": "python",
   "name": "python3"
  },
  "language_info": {
   "codemirror_mode": {
    "name": "ipython",
    "version": 3
   },
   "file_extension": ".py",
   "mimetype": "text/x-python",
   "name": "python",
   "nbconvert_exporter": "python",
   "pygments_lexer": "ipython3",
   "version": "3.12.3"
  }
 },
 "nbformat": 4,
 "nbformat_minor": 5
}
