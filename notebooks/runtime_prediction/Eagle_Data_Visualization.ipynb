{
 "cells": [
  {
   "cell_type": "markdown",
   "id": "218d1734-6b89-4603-be6e-0e54139b133e",
   "metadata": {},
   "source": [
    "# This notebook contains visualization and analysis of the Eagle dataset"
   ]
  },
  {
   "cell_type": "markdown",
   "id": "4860fa89-5b26-4f75-83d1-1b4833abed69",
   "metadata": {},
   "source": [
    "## Import necessary packages"
   ]
  },
  {
   "cell_type": "code",
   "execution_count": 1,
   "id": "01dd19c2-5aea-47a4-bc3f-ccb1f14e74bd",
   "metadata": {
    "tags": []
   },
   "outputs": [],
   "source": [
    "import glob\n",
    "import pandas as pd\n",
    "import numpy as np\n",
    "import matplotlib.pyplot as plt\n",
    "import matplotlib.patches as mpatches\n",
    "\n",
    "import os\n",
    "import datetime\n",
    "\n",
    "from scipy.optimize import curve_fit"
   ]
  },
  {
   "cell_type": "markdown",
   "id": "b0f63359-f3cc-4424-ae92-a5fc99aebdbc",
   "metadata": {},
   "source": [
    "## Get Eagle data"
   ]
  },
  {
   "cell_type": "code",
   "execution_count": 2,
   "id": "c1546265-dde9-490a-b10f-28d21344dbce",
   "metadata": {
    "tags": []
   },
   "outputs": [],
   "source": [
    "filepath = os.path.join('../data/', 'eagle_data.parquet')\n",
    "eagle_df = pd.read_parquet(filepath)"
   ]
  },
  {
   "cell_type": "code",
   "execution_count": 3,
   "id": "c43f6bdc-db90-4b64-837c-123e560de74e",
   "metadata": {
    "tags": []
   },
   "outputs": [
    {
     "data": {
      "text/html": [
       "<div>\n",
       "<style scoped>\n",
       "    .dataframe tbody tr th:only-of-type {\n",
       "        vertical-align: middle;\n",
       "    }\n",
       "\n",
       "    .dataframe tbody tr th {\n",
       "        vertical-align: top;\n",
       "    }\n",
       "\n",
       "    .dataframe thead th {\n",
       "        text-align: right;\n",
       "    }\n",
       "</style>\n",
       "<table border=\"1\" class=\"dataframe\">\n",
       "  <thead>\n",
       "    <tr style=\"text-align: right;\">\n",
       "      <th></th>\n",
       "      <th>job_id</th>\n",
       "      <th>user</th>\n",
       "      <th>account</th>\n",
       "      <th>partition</th>\n",
       "      <th>qos</th>\n",
       "      <th>wallclock_req</th>\n",
       "      <th>nodes_req</th>\n",
       "      <th>processors_req</th>\n",
       "      <th>gpus_req</th>\n",
       "      <th>mem_req</th>\n",
       "      <th>submit_time</th>\n",
       "      <th>start_time</th>\n",
       "      <th>end_time</th>\n",
       "      <th>run_time</th>\n",
       "      <th>state</th>\n",
       "      <th>name</th>\n",
       "      <th>work_dir</th>\n",
       "      <th>submit_line</th>\n",
       "    </tr>\n",
       "  </thead>\n",
       "  <tbody>\n",
       "    <tr>\n",
       "      <th>0</th>\n",
       "      <td>459053</td>\n",
       "      <td>user0001</td>\n",
       "      <td>account0001</td>\n",
       "      <td>partition001</td>\n",
       "      <td>Unknown</td>\n",
       "      <td>240.0</td>\n",
       "      <td>256</td>\n",
       "      <td>9216</td>\n",
       "      <td>0</td>\n",
       "      <td>0.0</td>\n",
       "      <td>2018-11-14 13:26:16</td>\n",
       "      <td>2018-11-14 13:26:17</td>\n",
       "      <td>2018-11-14 13:28:13</td>\n",
       "      <td>116.0</td>\n",
       "      <td>CANCELLED</td>\n",
       "      <td>name00000001</td>\n",
       "      <td>work_dir00000001</td>\n",
       "      <td>submit_line00000001</td>\n",
       "    </tr>\n",
       "    <tr>\n",
       "      <th>1</th>\n",
       "      <td>459058</td>\n",
       "      <td>user0001</td>\n",
       "      <td>account0001</td>\n",
       "      <td>partition001</td>\n",
       "      <td>Unknown</td>\n",
       "      <td>300.0</td>\n",
       "      <td>1</td>\n",
       "      <td>1</td>\n",
       "      <td>0</td>\n",
       "      <td>0.0</td>\n",
       "      <td>2018-11-14 13:26:16</td>\n",
       "      <td>2018-11-14 13:28:13</td>\n",
       "      <td>2018-11-14 13:28:13</td>\n",
       "      <td>0.0</td>\n",
       "      <td>CANCELLED</td>\n",
       "      <td>name00000002</td>\n",
       "      <td>work_dir00000001</td>\n",
       "      <td>submit_line00000001</td>\n",
       "    </tr>\n",
       "    <tr>\n",
       "      <th>2</th>\n",
       "      <td>459059</td>\n",
       "      <td>user0001</td>\n",
       "      <td>account0001</td>\n",
       "      <td>partition002</td>\n",
       "      <td>Unknown</td>\n",
       "      <td>36000.0</td>\n",
       "      <td>180</td>\n",
       "      <td>360</td>\n",
       "      <td>0</td>\n",
       "      <td>0.0</td>\n",
       "      <td>2018-11-14 13:26:16</td>\n",
       "      <td>2018-11-14 13:26:17</td>\n",
       "      <td>2018-11-14 13:28:13</td>\n",
       "      <td>116.0</td>\n",
       "      <td>CANCELLED</td>\n",
       "      <td>name00000003</td>\n",
       "      <td>work_dir00000001</td>\n",
       "      <td>submit_line00000001</td>\n",
       "    </tr>\n",
       "    <tr>\n",
       "      <th>3</th>\n",
       "      <td>459062</td>\n",
       "      <td>user0001</td>\n",
       "      <td>account0001</td>\n",
       "      <td>partition001</td>\n",
       "      <td>Unknown</td>\n",
       "      <td>300.0</td>\n",
       "      <td>1</td>\n",
       "      <td>1</td>\n",
       "      <td>0</td>\n",
       "      <td>0.0</td>\n",
       "      <td>2018-11-14 13:26:16</td>\n",
       "      <td>2018-11-14 13:28:13</td>\n",
       "      <td>2018-11-14 13:28:13</td>\n",
       "      <td>0.0</td>\n",
       "      <td>CANCELLED</td>\n",
       "      <td>name00000004</td>\n",
       "      <td>work_dir00000001</td>\n",
       "      <td>submit_line00000001</td>\n",
       "    </tr>\n",
       "    <tr>\n",
       "      <th>4</th>\n",
       "      <td>459061</td>\n",
       "      <td>user0001</td>\n",
       "      <td>account0001</td>\n",
       "      <td>partition001</td>\n",
       "      <td>Unknown</td>\n",
       "      <td>3660.0</td>\n",
       "      <td>180</td>\n",
       "      <td>360</td>\n",
       "      <td>0</td>\n",
       "      <td>0.0</td>\n",
       "      <td>2018-11-14 13:26:16</td>\n",
       "      <td>2018-11-14 13:26:17</td>\n",
       "      <td>2018-11-14 13:28:13</td>\n",
       "      <td>116.0</td>\n",
       "      <td>CANCELLED</td>\n",
       "      <td>name00000003</td>\n",
       "      <td>work_dir00000001</td>\n",
       "      <td>submit_line00000001</td>\n",
       "    </tr>\n",
       "    <tr>\n",
       "      <th>...</th>\n",
       "      <td>...</td>\n",
       "      <td>...</td>\n",
       "      <td>...</td>\n",
       "      <td>...</td>\n",
       "      <td>...</td>\n",
       "      <td>...</td>\n",
       "      <td>...</td>\n",
       "      <td>...</td>\n",
       "      <td>...</td>\n",
       "      <td>...</td>\n",
       "      <td>...</td>\n",
       "      <td>...</td>\n",
       "      <td>...</td>\n",
       "      <td>...</td>\n",
       "      <td>...</td>\n",
       "      <td>...</td>\n",
       "      <td>...</td>\n",
       "      <td>...</td>\n",
       "    </tr>\n",
       "    <tr>\n",
       "      <th>11030372</th>\n",
       "      <td>11684761</td>\n",
       "      <td>user0867</td>\n",
       "      <td>account0072</td>\n",
       "      <td>partition008</td>\n",
       "      <td>normal</td>\n",
       "      <td>180000.0</td>\n",
       "      <td>1</td>\n",
       "      <td>32</td>\n",
       "      <td>0</td>\n",
       "      <td>85248.0</td>\n",
       "      <td>2023-02-22 00:36:12</td>\n",
       "      <td>NaT</td>\n",
       "      <td>NaT</td>\n",
       "      <td>0.0</td>\n",
       "      <td>PENDING</td>\n",
       "      <td>name02315561</td>\n",
       "      <td>work_dir02379655</td>\n",
       "      <td>submit_line00000512</td>\n",
       "    </tr>\n",
       "    <tr>\n",
       "      <th>11030373</th>\n",
       "      <td>11684762</td>\n",
       "      <td>user0867</td>\n",
       "      <td>account0072</td>\n",
       "      <td>partition008</td>\n",
       "      <td>normal</td>\n",
       "      <td>180000.0</td>\n",
       "      <td>1</td>\n",
       "      <td>32</td>\n",
       "      <td>0</td>\n",
       "      <td>85248.0</td>\n",
       "      <td>2023-02-22 00:36:14</td>\n",
       "      <td>NaT</td>\n",
       "      <td>NaT</td>\n",
       "      <td>0.0</td>\n",
       "      <td>PENDING</td>\n",
       "      <td>name02315561</td>\n",
       "      <td>work_dir02379656</td>\n",
       "      <td>submit_line00000512</td>\n",
       "    </tr>\n",
       "    <tr>\n",
       "      <th>11030374</th>\n",
       "      <td>11684763</td>\n",
       "      <td>user0867</td>\n",
       "      <td>account0072</td>\n",
       "      <td>partition008</td>\n",
       "      <td>normal</td>\n",
       "      <td>180000.0</td>\n",
       "      <td>1</td>\n",
       "      <td>32</td>\n",
       "      <td>0</td>\n",
       "      <td>85248.0</td>\n",
       "      <td>2023-02-22 00:41:27</td>\n",
       "      <td>NaT</td>\n",
       "      <td>NaT</td>\n",
       "      <td>0.0</td>\n",
       "      <td>PENDING</td>\n",
       "      <td>name02315561</td>\n",
       "      <td>work_dir02379657</td>\n",
       "      <td>submit_line00000512</td>\n",
       "    </tr>\n",
       "    <tr>\n",
       "      <th>11030375</th>\n",
       "      <td>11684764</td>\n",
       "      <td>user0867</td>\n",
       "      <td>account0072</td>\n",
       "      <td>partition008</td>\n",
       "      <td>normal</td>\n",
       "      <td>180000.0</td>\n",
       "      <td>1</td>\n",
       "      <td>32</td>\n",
       "      <td>0</td>\n",
       "      <td>85248.0</td>\n",
       "      <td>2023-02-22 00:44:35</td>\n",
       "      <td>NaT</td>\n",
       "      <td>NaT</td>\n",
       "      <td>0.0</td>\n",
       "      <td>PENDING</td>\n",
       "      <td>name02315561</td>\n",
       "      <td>work_dir02379658</td>\n",
       "      <td>submit_line00000512</td>\n",
       "    </tr>\n",
       "    <tr>\n",
       "      <th>11030376</th>\n",
       "      <td>11684765</td>\n",
       "      <td>user0867</td>\n",
       "      <td>account0072</td>\n",
       "      <td>partition008</td>\n",
       "      <td>normal</td>\n",
       "      <td>180000.0</td>\n",
       "      <td>1</td>\n",
       "      <td>32</td>\n",
       "      <td>0</td>\n",
       "      <td>85248.0</td>\n",
       "      <td>2023-02-22 00:53:55</td>\n",
       "      <td>NaT</td>\n",
       "      <td>NaT</td>\n",
       "      <td>0.0</td>\n",
       "      <td>PENDING</td>\n",
       "      <td>name02315561</td>\n",
       "      <td>work_dir02379659</td>\n",
       "      <td>submit_line00000512</td>\n",
       "    </tr>\n",
       "  </tbody>\n",
       "</table>\n",
       "<p>11030377 rows × 18 columns</p>\n",
       "</div>"
      ],
      "text/plain": [
       "            job_id      user      account     partition      qos  \\\n",
       "0           459053  user0001  account0001  partition001  Unknown   \n",
       "1           459058  user0001  account0001  partition001  Unknown   \n",
       "2           459059  user0001  account0001  partition002  Unknown   \n",
       "3           459062  user0001  account0001  partition001  Unknown   \n",
       "4           459061  user0001  account0001  partition001  Unknown   \n",
       "...            ...       ...          ...           ...      ...   \n",
       "11030372  11684761  user0867  account0072  partition008   normal   \n",
       "11030373  11684762  user0867  account0072  partition008   normal   \n",
       "11030374  11684763  user0867  account0072  partition008   normal   \n",
       "11030375  11684764  user0867  account0072  partition008   normal   \n",
       "11030376  11684765  user0867  account0072  partition008   normal   \n",
       "\n",
       "          wallclock_req  nodes_req  processors_req  gpus_req  mem_req  \\\n",
       "0                 240.0        256            9216         0      0.0   \n",
       "1                 300.0          1               1         0      0.0   \n",
       "2               36000.0        180             360         0      0.0   \n",
       "3                 300.0          1               1         0      0.0   \n",
       "4                3660.0        180             360         0      0.0   \n",
       "...                 ...        ...             ...       ...      ...   \n",
       "11030372       180000.0          1              32         0  85248.0   \n",
       "11030373       180000.0          1              32         0  85248.0   \n",
       "11030374       180000.0          1              32         0  85248.0   \n",
       "11030375       180000.0          1              32         0  85248.0   \n",
       "11030376       180000.0          1              32         0  85248.0   \n",
       "\n",
       "                 submit_time          start_time            end_time  \\\n",
       "0        2018-11-14 13:26:16 2018-11-14 13:26:17 2018-11-14 13:28:13   \n",
       "1        2018-11-14 13:26:16 2018-11-14 13:28:13 2018-11-14 13:28:13   \n",
       "2        2018-11-14 13:26:16 2018-11-14 13:26:17 2018-11-14 13:28:13   \n",
       "3        2018-11-14 13:26:16 2018-11-14 13:28:13 2018-11-14 13:28:13   \n",
       "4        2018-11-14 13:26:16 2018-11-14 13:26:17 2018-11-14 13:28:13   \n",
       "...                      ...                 ...                 ...   \n",
       "11030372 2023-02-22 00:36:12                 NaT                 NaT   \n",
       "11030373 2023-02-22 00:36:14                 NaT                 NaT   \n",
       "11030374 2023-02-22 00:41:27                 NaT                 NaT   \n",
       "11030375 2023-02-22 00:44:35                 NaT                 NaT   \n",
       "11030376 2023-02-22 00:53:55                 NaT                 NaT   \n",
       "\n",
       "          run_time      state          name          work_dir  \\\n",
       "0            116.0  CANCELLED  name00000001  work_dir00000001   \n",
       "1              0.0  CANCELLED  name00000002  work_dir00000001   \n",
       "2            116.0  CANCELLED  name00000003  work_dir00000001   \n",
       "3              0.0  CANCELLED  name00000004  work_dir00000001   \n",
       "4            116.0  CANCELLED  name00000003  work_dir00000001   \n",
       "...            ...        ...           ...               ...   \n",
       "11030372       0.0    PENDING  name02315561  work_dir02379655   \n",
       "11030373       0.0    PENDING  name02315561  work_dir02379656   \n",
       "11030374       0.0    PENDING  name02315561  work_dir02379657   \n",
       "11030375       0.0    PENDING  name02315561  work_dir02379658   \n",
       "11030376       0.0    PENDING  name02315561  work_dir02379659   \n",
       "\n",
       "                  submit_line  \n",
       "0         submit_line00000001  \n",
       "1         submit_line00000001  \n",
       "2         submit_line00000001  \n",
       "3         submit_line00000001  \n",
       "4         submit_line00000001  \n",
       "...                       ...  \n",
       "11030372  submit_line00000512  \n",
       "11030373  submit_line00000512  \n",
       "11030374  submit_line00000512  \n",
       "11030375  submit_line00000512  \n",
       "11030376  submit_line00000512  \n",
       "\n",
       "[11030377 rows x 18 columns]"
      ]
     },
     "execution_count": 3,
     "metadata": {},
     "output_type": "execute_result"
    }
   ],
   "source": [
    "eagle_df"
   ]
  },
  {
   "cell_type": "markdown",
   "id": "5045cc6a-4a52-4777-9b0f-c6a9a6f917bd",
   "metadata": {},
   "source": [
    "## Count the number of jobs of each final state"
   ]
  },
  {
   "cell_type": "code",
   "execution_count": 4,
   "id": "cbf29401-2c9e-48e9-9659-f10132eeaa2b",
   "metadata": {
    "tags": []
   },
   "outputs": [
    {
     "data": {
      "text/plain": [
       "COMPLETED        7390586\n",
       "CANCELLED        1813244\n",
       "FAILED            975478\n",
       "TIMEOUT           803002\n",
       "OUT_OF_MEMORY      20400\n",
       "PENDING            14646\n",
       "NODE_FAIL          12088\n",
       "RUNNING              933\n",
       "Name: state, dtype: int64"
      ]
     },
     "execution_count": 4,
     "metadata": {},
     "output_type": "execute_result"
    }
   ],
   "source": [
    "eagle_df.state.value_counts()"
   ]
  },
  {
   "cell_type": "markdown",
   "id": "652a165b-02c7-472d-a7e7-148871600585",
   "metadata": {},
   "source": [
    "## Calculate key statistics"
   ]
  },
  {
   "cell_type": "code",
   "execution_count": 5,
   "id": "50020775-dac7-4012-99e4-e10947513d99",
   "metadata": {
    "tags": []
   },
   "outputs": [],
   "source": [
    "total_jobs = len(eagle_df)\n",
    "total_users = len(eagle_df.user.unique())\n",
    "total_accounts = len(eagle_df.account.unique())\n",
    "median_runtime = eagle_df[eagle_df.state.isin(['COMPLETED','TIMEOUT'])].run_time.median() / 60\n",
    "mean_runtime = eagle_df[eagle_df.state.isin(['COMPLETED','TIMEOUT'])].run_time.mean() / 3600\n",
    "max_runtime = eagle_df[eagle_df.state.isin(['COMPLETED','TIMEOUT'])].run_time.max() / (60*60*24)\n",
    "max_nodes = eagle_df[eagle_df.state.isin(['COMPLETED','TIMEOUT'])].nodes_req.max()"
   ]
  },
  {
   "cell_type": "code",
   "execution_count": 6,
   "id": "df0bc9c5-da72-476a-a474-941fe2ba7826",
   "metadata": {
    "tags": []
   },
   "outputs": [
    {
     "name": "stdout",
     "output_type": "stream",
     "text": [
      "The Eagle dataset consists of 11,030,377 jobs run by 936 users and 594 accounts.\n",
      "The median runtime is 16.5 minutes and the average runtime is 2.9 hours.\n",
      "The longest job ran for 13 days and the maximum number of nodes used by a single job is 2100.\n"
     ]
    }
   ],
   "source": [
    "print(f'The Eagle dataset consists of {total_jobs:,} jobs run by {total_users} users and {total_accounts} accounts.\\n' + \n",
    "      f'The median runtime is {median_runtime:0.1f} minutes and the average runtime is {mean_runtime:0.1f} hours.\\n' +\n",
    "      f'The longest job ran for {max_runtime:.0f} days and the maximum number of nodes used by a single job is {max_nodes}.')"
   ]
  },
  {
   "cell_type": "markdown",
   "id": "e8224b37-0c41-4b24-a256-ccfd654bf42a",
   "metadata": {},
   "source": [
    "## Prepare data for visualizations"
   ]
  },
  {
   "cell_type": "code",
   "execution_count": 7,
   "id": "8da099e3-5e0c-47fd-94ed-3bdb2a8ac556",
   "metadata": {
    "tags": []
   },
   "outputs": [],
   "source": [
    "def bin_node_hours(v):\n",
    "    if v <= 4:\n",
    "        return \"short\"\n",
    "    elif (v > 4) and (v <= 48):\n",
    "        return \"medium\"\n",
    "    else: \n",
    "        return \"long\""
   ]
  },
  {
   "cell_type": "code",
   "execution_count": 8,
   "id": "a343c4a3-1669-427c-9032-6253d162ffcf",
   "metadata": {
    "tags": []
   },
   "outputs": [],
   "source": [
    "def bin_wallclock_req(v):\n",
    "    if v <= .1:\n",
    "        return 0 #\"[0,6 m)\"\n",
    "    elif (v > .1) and (v <= 1):\n",
    "        return 1 #\"[6m,1 hr)\"\n",
    "    elif (v > 1) and (v <= 10):\n",
    "        return 2 #\"[1 hr,10 hr)\"\n",
    "    elif (v > 10) and (v <= 100):\n",
    "        return 3 #\"[10,100 hr)\"\\\n",
    "    else:\n",
    "        return 4"
   ]
  },
  {
   "cell_type": "code",
   "execution_count": 9,
   "id": "e5e9de60-98d6-4465-b9f7-ff564a775fb0",
   "metadata": {
    "tags": []
   },
   "outputs": [],
   "source": [
    "eagle_df['node_hours'] = eagle_df.run_time * eagle_df.nodes_req / 3600\n",
    "eagle_df['node_hours_binned'] = eagle_df.node_hours.apply(bin_node_hours)\n",
    "eagle_df['wc_ratio_req_vs_used'] = eagle_df.wallclock_req / eagle_df.run_time\n",
    "eagle_df['wait_time'] = (eagle_df.start_time - eagle_df.submit_time).apply(lambda x: x.total_seconds())\n",
    "eagle_df[\"wallclock_req_binned\"] = (eagle_df.wallclock_req / 3600).apply(bin_wallclock_req)"
   ]
  },
  {
   "cell_type": "code",
   "execution_count": 10,
   "id": "ec6ab788-b74e-42fa-9b2a-01db3a91ba2f",
   "metadata": {
    "tags": []
   },
   "outputs": [],
   "source": [
    "filtered_df = eagle_df[eagle_df.state.isin(['COMPLETED','TIMEOUT'])]"
   ]
  },
  {
   "cell_type": "markdown",
   "id": "e5397fad-f548-4928-97f0-ee8d1c85bec0",
   "metadata": {},
   "source": [
    "# Visualizations"
   ]
  },
  {
   "cell_type": "code",
   "execution_count": 11,
   "id": "45b4b5a0-c1a8-4675-aed1-3a03f94caa21",
   "metadata": {
    "jupyter": {
     "source_hidden": true
    },
    "tags": []
   },
   "outputs": [
    {
     "data": {
      "image/png": "[encoded data removed]",
      "text/plain": [
       "<Figure size 1200x300 with 1 Axes>"
      ]
     },
     "metadata": {},
     "output_type": "display_data"
    }
   ],
   "source": [
    "plt.figure(figsize=(12,3))\n",
    "plt.hist(filtered_df['run_time'] / 3600, bins=240)\n",
    "plt.xlim([-3,243])\n",
    "plt.xticks([0,24,48,72,96,120,144,168,192,216,240], labels=[0,1,2,3,4,5,6,7,8,9,10])\n",
    "plt.yscale('log')\n",
    "plt.xlabel('Run time (days)')\n",
    "plt.ylabel('Number of Jobs (log)')\n",
    "plt.title('Runtime Distribution of Eagle Jobs')\n",
    "plt.tight_layout()\n",
    "plt.show()"
   ]
  },
  {
   "cell_type": "code",
   "execution_count": 12,
   "id": "641faa00-e252-4641-bb2f-a104740b6850",
   "metadata": {
    "jupyter": {
     "source_hidden": true
    },
    "tags": []
   },
   "outputs": [
    {
     "data": {
      "image/png": "[encoded data removed]",
      "text/plain": [
       "<Figure size 1200x300 with 1 Axes>"
      ]
     },
     "metadata": {},
     "output_type": "display_data"
    }
   ],
   "source": [
    "plt.figure(figsize=(12,3))\n",
    "plt.hist(filtered_df['nodes_req'], bins=100)\n",
    "plt.xlim([0,2100])\n",
    "plt.yscale('log')\n",
    "plt.xlabel('Number of Nodes Requested')\n",
    "plt.ylabel('Number of Jobs (log)')\n",
    "plt.title('Number of Nodes Requested by Eagle Jobs')\n",
    "plt.tight_layout()\n",
    "plt.show()"
   ]
  },
  {
   "cell_type": "code",
   "execution_count": 13,
   "id": "4f596497-8c4d-406f-9bae-bb5dd783c73e",
   "metadata": {
    "jupyter": {
     "source_hidden": true
    },
    "tags": []
   },
   "outputs": [
    {
     "data": {
      "text/html": [
       "<div>\n",
       "<style scoped>\n",
       "    .dataframe tbody tr th:only-of-type {\n",
       "        vertical-align: middle;\n",
       "    }\n",
       "\n",
       "    .dataframe tbody tr th {\n",
       "        vertical-align: top;\n",
       "    }\n",
       "\n",
       "    .dataframe thead th {\n",
       "        text-align: right;\n",
       "    }\n",
       "</style>\n",
       "<table border=\"1\" class=\"dataframe\">\n",
       "  <thead>\n",
       "    <tr style=\"text-align: right;\">\n",
       "      <th></th>\n",
       "      <th>job_length</th>\n",
       "      <th>num_jobs</th>\n",
       "      <th>node_hours</th>\n",
       "    </tr>\n",
       "  </thead>\n",
       "  <tbody>\n",
       "    <tr>\n",
       "      <th>2</th>\n",
       "      <td>short</td>\n",
       "      <td>6630090</td>\n",
       "      <td>3.631061e+06</td>\n",
       "    </tr>\n",
       "    <tr>\n",
       "      <th>1</th>\n",
       "      <td>medium</td>\n",
       "      <td>1352886</td>\n",
       "      <td>1.473025e+07</td>\n",
       "    </tr>\n",
       "    <tr>\n",
       "      <th>0</th>\n",
       "      <td>long</td>\n",
       "      <td>210612</td>\n",
       "      <td>4.042150e+07</td>\n",
       "    </tr>\n",
       "  </tbody>\n",
       "</table>\n",
       "</div>"
      ],
      "text/plain": [
       "  job_length  num_jobs    node_hours\n",
       "2      short   6630090  3.631061e+06\n",
       "1     medium   1352886  1.473025e+07\n",
       "0       long    210612  4.042150e+07"
      ]
     },
     "execution_count": 13,
     "metadata": {},
     "output_type": "execute_result"
    }
   ],
   "source": [
    "node_hours_binned_labels = ['short', 'medium', 'long']\n",
    "\n",
    "num_jobs_by_job_length = dict()\n",
    "\n",
    "for idx, grp in filtered_df.groupby('node_hours_binned'):\n",
    "    num_jobs_by_job_length[idx] = len(grp)\n",
    "    \n",
    "num_jobs_by_job_length_df = pd.DataFrame(\\\n",
    "zip(num_jobs_by_job_length.keys(),num_jobs_by_job_length.values()),\\\n",
    "columns=['job_length', 'num_jobs'])\n",
    "\n",
    "node_hours_by_job_length = dict()\n",
    "\n",
    "for idx, grp in filtered_df.groupby('node_hours_binned'):\n",
    "    node_hours_by_job_length[idx] = grp['node_hours'].sum()\n",
    "    \n",
    "node_hours_by_job_length_df = pd.DataFrame(\\\n",
    "zip(node_hours_by_job_length.keys(),node_hours_by_job_length.values()),\\\n",
    "columns=['job_length', 'node_hours'])\n",
    "\n",
    "num_jobs_by_job_length_sorted = num_jobs_by_job_length_df.sort_values('job_length')\n",
    "node_hours_by_job_length_sorted = node_hours_by_job_length_df.sort_values('job_length')\n",
    "\n",
    "num_jobs_and_node_hours_by_job_length = pd.concat([num_jobs_by_job_length_sorted,node_hours_by_job_length_sorted['node_hours']],axis=1).sort_values('node_hours')\n",
    "num_jobs_and_node_hours_by_job_length"
   ]
  },
  {
   "cell_type": "code",
   "execution_count": 14,
   "id": "895d3611-a0f9-495a-9660-59f629668a7a",
   "metadata": {
    "jupyter": {
     "source_hidden": true
    },
    "tags": []
   },
   "outputs": [
    {
     "data": {
      "image/png": "[encoded data removed]",
      "text/plain": [
       "<Figure size 1200x250 with 2 Axes>"
      ]
     },
     "metadata": {},
     "output_type": "display_data"
    }
   ],
   "source": [
    "job_length = num_jobs_and_node_hours_by_job_length['job_length']\n",
    "\n",
    "fig, axes = plt.subplots(figsize=(12,2.5), ncols=2, sharey=True)\n",
    "fig.tight_layout()\n",
    "\n",
    "colors = ['#66ffb3','#ff66b3','#66b3ff']\n",
    "index = ['SHORT','MEDIUM','LONG']\n",
    "\n",
    "axes[0].barh(index, num_jobs_and_node_hours_by_job_length['num_jobs'], align='center', color=colors, zorder=10)\n",
    "axes[0].set_title(\"# of Jobs\")\n",
    "axes[0].invert_xaxis()\n",
    "axes[0].yaxis.tick_left()\n",
    "\n",
    "axes[1].barh(index, num_jobs_and_node_hours_by_job_length['node_hours'], align='center', color=colors, zorder=10)\n",
    "axes[1].set_title(\"Node Hours\")\n",
    "\n",
    "labels_0 = ['0','1','2','3','4','5','6','7']\n",
    "axes[0].set_xlabel(\"# of Jobs (millions)\");\n",
    "axes[0].set_xticks(list(range(0,7000001,1000000)))\n",
    "axes[0].set_xticklabels(labels_0)\n",
    "\n",
    "labels_1 = ['0','10','20','30','40','50']\n",
    "axes[1].set_xlabel(\"Node Hours (millions)\");\n",
    "axes[1].set_xticks(list(range(0,50000001,10000000)))\n",
    "axes[1].set_xticklabels(labels_1)\n",
    "axes[1].tick_params(left=False)\n",
    "\n",
    "plt.subplots_adjust(wspace=0.05, top=0.85, bottom=0.1, left=0.18, right=0.95)\n",
    "plt.gca().invert_yaxis()\n",
    "\n",
    "plt.tight_layout()\n",
    "plt.show()"
   ]
  },
  {
   "cell_type": "code",
   "execution_count": 15,
   "id": "f62769bc-93e0-4d6b-afdb-6bb6fde58db6",
   "metadata": {
    "jupyter": {
     "source_hidden": true
    },
    "tags": []
   },
   "outputs": [
    {
     "data": {
      "image/png": "[encoded data removed]",
      "text/plain": [
       "<Figure size 600x300 with 1 Axes>"
      ]
     },
     "metadata": {},
     "output_type": "display_data"
    }
   ],
   "source": [
    "plt.figure(figsize=(6,3))\n",
    "plt.hist(filtered_df[filtered_df.run_time > 0].wc_ratio_req_vs_used, bins=np.logspace(0,7,50))\n",
    "med_factor = filtered_df[filtered_df.run_time > 0].wc_ratio_req_vs_used.median()\n",
    "plt.vlines(med_factor,0,3000000, color = 'aquamarine', linestyle = '--', label=f\"Median ({med_factor:.2f})\")\n",
    "plt.xscale('log')\n",
    "plt.yscale('log')\n",
    "plt.legend()\n",
    "plt.xlim([1,1000000])\n",
    "plt.ylim([.1,3000000])\n",
    "plt.xlabel('Wallclock Requested / Wallclock Used')\n",
    "plt.ylabel('Number of Jobs')\n",
    "plt.title('Wallclock Overestimation Factor (Requested/Used)')\n",
    "plt.tight_layout()\n",
    "plt.show()"
   ]
  },
  {
   "cell_type": "code",
   "execution_count": 16,
   "id": "0af152ee-6b18-42bb-aefd-e35dea5096ec",
   "metadata": {
    "jupyter": {
     "source_hidden": true
    },
    "tags": []
   },
   "outputs": [],
   "source": [
    "avg_wait_time = dict()\n",
    "grp_len = dict()\n",
    "for idx, grp in filtered_df.groupby('wallclock_req_binned'):\n",
    "    grp_len[idx] = len(grp)\n",
    "    avg_wait_time[idx] = grp.wait_time.mean() / 3600"
   ]
  },
  {
   "cell_type": "code",
   "execution_count": 17,
   "id": "0782cee1-cb7e-4894-9cb8-d84452aea747",
   "metadata": {
    "jupyter": {
     "source_hidden": true
    },
    "tags": []
   },
   "outputs": [],
   "source": [
    "avg_wc_req = dict()\n",
    "for idx, grp in filtered_df.groupby('wallclock_req_binned'):\n",
    "    avg_wc_req[idx] = grp.wallclock_req.mean() / 3600"
   ]
  },
  {
   "cell_type": "code",
   "execution_count": 18,
   "id": "1005ed3c-d38a-4ac2-afc2-b19e27694080",
   "metadata": {
    "jupyter": {
     "source_hidden": true
    },
    "tags": []
   },
   "outputs": [],
   "source": [
    "def func(x,a,b):\n",
    "    return a*x**b"
   ]
  },
  {
   "cell_type": "code",
   "execution_count": 19,
   "id": "ef806501-2479-4237-9d6e-48c2d7f16860",
   "metadata": {
    "collapsed": true,
    "jupyter": {
     "outputs_hidden": true,
     "source_hidden": true
    },
    "tags": []
   },
   "outputs": [
    {
     "data": {
      "text/plain": [
       "array([5.15850114, 0.53512049])"
      ]
     },
     "execution_count": 19,
     "metadata": {},
     "output_type": "execute_result"
    }
   ],
   "source": [
    "x = np.array(list(avg_wc_req.values()))\n",
    "y = np.array(list(avg_wait_time.values()))\n",
    "popt, pcov = curve_fit(func, x, y)\n",
    "popt"
   ]
  },
  {
   "cell_type": "code",
   "execution_count": 20,
   "id": "981d9394-3926-4388-8350-b3925e10c9da",
   "metadata": {
    "jupyter": {
     "source_hidden": true
    },
    "tags": []
   },
   "outputs": [
    {
     "data": {
      "image/png": "[encoded data removed]",
      "text/plain": [
       "<Figure size 600x300 with 1 Axes>"
      ]
     },
     "metadata": {},
     "output_type": "display_data"
    }
   ],
   "source": [
    "plt.figure(figsize=(6,3))\n",
    "\n",
    "x_ = np.linspace(0.05,206,2000)\n",
    "y_ = popt[0]*(x_**popt[1])\n",
    "\n",
    "plt.scatter(x,y)\n",
    "plt.plot(x_,y_,linestyle='--',color='grey',alpha=0.8,label='$wait\\:time=5.159(wallclock\\:requested)^{.535}$')\n",
    "\n",
    "plt.xscale('log')\n",
    "plt.xticks(x,labels=['[0,.1]','(.1,1]','(1,10]','(10,100]','>100'])\n",
    "plt.xlabel('Wallclock Requested (hours)')\n",
    "plt.ylabel('Wait Time (hours)')\n",
    "plt.title('Wait Time by Wallclock Requested')\n",
    "plt.minorticks_off()\n",
    "plt.legend()\n",
    "\n",
    "plt.tight_layout()\n",
    "plt.show()"
   ]
  }
 ],
 "metadata": {
  "kernelspec": {
   "display_name": "Python 3 (ipykernel)",
   "language": "python",
   "name": "python3"
  },
  "language_info": {
   "codemirror_mode": {
    "name": "ipython",
    "version": 3
   },
   "file_extension": ".py",
   "mimetype": "text/x-python",
   "name": "python",
   "nbconvert_exporter": "python",
   "pygments_lexer": "ipython3",
   "version": "3.10.9"
  }
 },
 "nbformat": 4,
 "nbformat_minor": 5
}
